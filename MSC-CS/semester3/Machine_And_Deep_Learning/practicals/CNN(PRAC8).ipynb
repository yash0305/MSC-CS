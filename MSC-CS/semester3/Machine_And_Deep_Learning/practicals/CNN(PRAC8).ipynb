{
  "nbformat": 4,
  "nbformat_minor": 0,
  "metadata": {
    "colab": {
      "provenance": []
    },
    "kernelspec": {
      "name": "python3",
      "display_name": "Python 3"
    },
    "language_info": {
      "name": "python"
    }
  },
  "cells": [
    {
      "cell_type": "code",
      "execution_count": 32,
      "metadata": {
        "id": "PX12-VWnrvkb"
      },
      "outputs": [],
      "source": [
        "import tensorflow as tf\n",
        "from keras.preprocessing.image import ImageDataGenerator"
      ]
    },
    {
      "cell_type": "code",
      "source": [
        "from google.colab import drive\n",
        "drive.mount('/content/drive')"
      ],
      "metadata": {
        "colab": {
          "base_uri": "https://localhost:8080/"
        },
        "id": "t1yrFZ2PsVIK",
        "outputId": "5cec7574-e6e0-4596-ae90-fdb04d8fb65b"
      },
      "execution_count": 33,
      "outputs": [
        {
          "output_type": "stream",
          "name": "stdout",
          "text": [
            "Drive already mounted at /content/drive; to attempt to forcibly remount, call drive.mount(\"/content/drive\", force_remount=True).\n"
          ]
        }
      ]
    },
    {
      "cell_type": "code",
      "source": [
        "tf.__version__"
      ],
      "metadata": {
        "colab": {
          "base_uri": "https://localhost:8080/",
          "height": 38
        },
        "id": "18gRLwY6seJR",
        "outputId": "49ef56d8-446c-4053-ac18-184e0212598a"
      },
      "execution_count": 34,
      "outputs": [
        {
          "output_type": "execute_result",
          "data": {
            "text/plain": [
              "'2.8.2'"
            ],
            "application/vnd.google.colaboratory.intrinsic+json": {
              "type": "string"
            }
          },
          "metadata": {},
          "execution_count": 34
        }
      ]
    },
    {
      "cell_type": "code",
      "source": [
        "train_datagen = ImageDataGenerator(rescale = 1./255,\n",
        "                                   shear_range = 0.2,\n",
        "                                   zoom_range = 0.2,\n",
        "                                   horizontal_flip = True)\n",
        "training_set = train_datagen.flow_from_directory('/content/drive/MyDrive/small_dataset/training_set',\n",
        "                                                 target_size = (64, 64),\n",
        "                                                 batch_size = 32,\n",
        "                                                 class_mode = 'binary')"
      ],
      "metadata": {
        "colab": {
          "base_uri": "https://localhost:8080/"
        },
        "id": "oltEcm6Ku0hU",
        "outputId": "e2a038df-3617-4c0f-c9aa-e9e81b519b94"
      },
      "execution_count": 35,
      "outputs": [
        {
          "output_type": "stream",
          "name": "stdout",
          "text": [
            "Found 10 images belonging to 2 classes.\n"
          ]
        }
      ]
    },
    {
      "cell_type": "code",
      "source": [
        "test_datagen = ImageDataGenerator(rescale = 1./255)\n",
        "test_set = test_datagen.flow_from_directory('/content/drive/MyDrive/small_dataset/training_set',\n",
        "                                            target_size = (64, 64),\n",
        "                                            batch_size = 32,\n",
        "                                            class_mode = 'binary')"
      ],
      "metadata": {
        "colab": {
          "base_uri": "https://localhost:8080/"
        },
        "id": "cUBTJuC_-V6g",
        "outputId": "4d288d3e-21e6-4b0f-9b83-932bd995e300"
      },
      "execution_count": 36,
      "outputs": [
        {
          "output_type": "stream",
          "name": "stdout",
          "text": [
            "Found 10 images belonging to 2 classes.\n"
          ]
        }
      ]
    },
    {
      "cell_type": "code",
      "source": [
        "cnn = tf.keras.models.Sequential()"
      ],
      "metadata": {
        "id": "KdnjeD0R9iao"
      },
      "execution_count": 37,
      "outputs": []
    },
    {
      "cell_type": "code",
      "source": [
        "cnn.add(tf.keras.layers.Conv2D(filters=32, kernel_size=3, activation='relu', input_shape=[64, 64, 3]))"
      ],
      "metadata": {
        "id": "zvGZEFHF9m1w"
      },
      "execution_count": 38,
      "outputs": []
    },
    {
      "cell_type": "code",
      "source": [
        "cnn.add(tf.keras.layers.MaxPool2D(pool_size=2, strides=2))"
      ],
      "metadata": {
        "id": "2daJrHWq9pZx"
      },
      "execution_count": 39,
      "outputs": []
    },
    {
      "cell_type": "code",
      "source": [
        "cnn.add(tf.keras.layers.Conv2D(filters=32, kernel_size=3, activation='relu'))\n",
        "cnn.add(tf.keras.layers.MaxPool2D(pool_size=2, strides=2))"
      ],
      "metadata": {
        "id": "83s8UhEN9uip"
      },
      "execution_count": 40,
      "outputs": []
    },
    {
      "cell_type": "code",
      "source": [
        "cnn.add(tf.keras.layers.Flatten())"
      ],
      "metadata": {
        "id": "6G61xaLr9w6Q"
      },
      "execution_count": 41,
      "outputs": []
    },
    {
      "cell_type": "code",
      "source": [
        "cnn.add(tf.keras.layers.Dense(units=128, activation='relu'))"
      ],
      "metadata": {
        "id": "20THK3yL9yko"
      },
      "execution_count": 42,
      "outputs": []
    },
    {
      "cell_type": "code",
      "source": [
        "cnn.add(tf.keras.layers.Dense(units=1, activation='sigmoid'))"
      ],
      "metadata": {
        "id": "1Igb-R7H90Pg"
      },
      "execution_count": 43,
      "outputs": []
    },
    {
      "cell_type": "code",
      "source": [
        "cnn.compile(optimizer = 'adam', loss = 'binary_crossentropy', metrics = ['accuracy'])"
      ],
      "metadata": {
        "id": "_nQU_jMU91rr"
      },
      "execution_count": 44,
      "outputs": []
    },
    {
      "cell_type": "code",
      "source": [
        "cnn.fit(x = training_set, validation_data = test_set, epochs =25)"
      ],
      "metadata": {
        "colab": {
          "base_uri": "https://localhost:8080/"
        },
        "id": "IzlR1Yr-927v",
        "outputId": "ab334ddb-3635-4aab-9f2d-51835b38c146"
      },
      "execution_count": 45,
      "outputs": [
        {
          "output_type": "stream",
          "name": "stdout",
          "text": [
            "Epoch 1/25\n",
            "1/1 [==============================] - 1s 867ms/step - loss: 0.6890 - accuracy: 0.5000 - val_loss: 0.6560 - val_accuracy: 0.9000\n",
            "Epoch 2/25\n",
            "1/1 [==============================] - 0s 209ms/step - loss: 0.6136 - accuracy: 0.9000 - val_loss: 0.6145 - val_accuracy: 0.7000\n",
            "Epoch 3/25\n",
            "1/1 [==============================] - 0s 209ms/step - loss: 0.6050 - accuracy: 0.7000 - val_loss: 0.7453 - val_accuracy: 0.5000\n",
            "Epoch 4/25\n",
            "1/1 [==============================] - 0s 203ms/step - loss: 0.6943 - accuracy: 0.5000 - val_loss: 0.5387 - val_accuracy: 0.8000\n",
            "Epoch 5/25\n",
            "1/1 [==============================] - 0s 222ms/step - loss: 0.5216 - accuracy: 0.8000 - val_loss: 0.5384 - val_accuracy: 0.6000\n",
            "Epoch 6/25\n",
            "1/1 [==============================] - 0s 209ms/step - loss: 0.6506 - accuracy: 0.6000 - val_loss: 0.5008 - val_accuracy: 0.8000\n",
            "Epoch 7/25\n",
            "1/1 [==============================] - 0s 206ms/step - loss: 0.5155 - accuracy: 0.8000 - val_loss: 0.6158 - val_accuracy: 0.5000\n",
            "Epoch 8/25\n",
            "1/1 [==============================] - 0s 234ms/step - loss: 0.5246 - accuracy: 0.6000 - val_loss: 0.4620 - val_accuracy: 0.8000\n",
            "Epoch 9/25\n",
            "1/1 [==============================] - 0s 222ms/step - loss: 0.4381 - accuracy: 0.8000 - val_loss: 0.3843 - val_accuracy: 0.9000\n",
            "Epoch 10/25\n",
            "1/1 [==============================] - 0s 208ms/step - loss: 0.4180 - accuracy: 0.8000 - val_loss: 0.3624 - val_accuracy: 0.9000\n",
            "Epoch 11/25\n",
            "1/1 [==============================] - 0s 211ms/step - loss: 0.4385 - accuracy: 0.8000 - val_loss: 0.3404 - val_accuracy: 1.0000\n",
            "Epoch 12/25\n",
            "1/1 [==============================] - 0s 205ms/step - loss: 0.2767 - accuracy: 0.9000 - val_loss: 0.4505 - val_accuracy: 0.8000\n",
            "Epoch 13/25\n",
            "1/1 [==============================] - 0s 209ms/step - loss: 0.2999 - accuracy: 1.0000 - val_loss: 0.3697 - val_accuracy: 0.9000\n",
            "Epoch 14/25\n",
            "1/1 [==============================] - 0s 213ms/step - loss: 0.3813 - accuracy: 0.9000 - val_loss: 0.2466 - val_accuracy: 0.9000\n",
            "Epoch 15/25\n",
            "1/1 [==============================] - 0s 206ms/step - loss: 0.2619 - accuracy: 0.8000 - val_loss: 0.2317 - val_accuracy: 0.9000\n",
            "Epoch 16/25\n",
            "1/1 [==============================] - 0s 209ms/step - loss: 0.2518 - accuracy: 0.9000 - val_loss: 0.1969 - val_accuracy: 1.0000\n",
            "Epoch 17/25\n",
            "1/1 [==============================] - 0s 199ms/step - loss: 0.2140 - accuracy: 0.9000 - val_loss: 0.2874 - val_accuracy: 0.9000\n",
            "Epoch 18/25\n",
            "1/1 [==============================] - 0s 207ms/step - loss: 0.2659 - accuracy: 0.9000 - val_loss: 0.3173 - val_accuracy: 0.9000\n",
            "Epoch 19/25\n",
            "1/1 [==============================] - 0s 205ms/step - loss: 0.2956 - accuracy: 1.0000 - val_loss: 0.1683 - val_accuracy: 1.0000\n",
            "Epoch 20/25\n",
            "1/1 [==============================] - 0s 215ms/step - loss: 0.2433 - accuracy: 0.9000 - val_loss: 0.1136 - val_accuracy: 1.0000\n",
            "Epoch 21/25\n",
            "1/1 [==============================] - 0s 198ms/step - loss: 0.1536 - accuracy: 1.0000 - val_loss: 0.0994 - val_accuracy: 1.0000\n",
            "Epoch 22/25\n",
            "1/1 [==============================] - 0s 205ms/step - loss: 0.1308 - accuracy: 1.0000 - val_loss: 0.0860 - val_accuracy: 1.0000\n",
            "Epoch 23/25\n",
            "1/1 [==============================] - 0s 200ms/step - loss: 0.1218 - accuracy: 1.0000 - val_loss: 0.0795 - val_accuracy: 1.0000\n",
            "Epoch 24/25\n",
            "1/1 [==============================] - 0s 220ms/step - loss: 0.1052 - accuracy: 1.0000 - val_loss: 0.0614 - val_accuracy: 1.0000\n",
            "Epoch 25/25\n",
            "1/1 [==============================] - 0s 207ms/step - loss: 0.1199 - accuracy: 0.9000 - val_loss: 0.0659 - val_accuracy: 1.0000\n"
          ]
        },
        {
          "output_type": "execute_result",
          "data": {
            "text/plain": [
              "<keras.callbacks.History at 0x7f80fc372250>"
            ]
          },
          "metadata": {},
          "execution_count": 45
        }
      ]
    },
    {
      "cell_type": "code",
      "source": [
        "import numpy as np\n",
        "from keras.preprocessing import image\n",
        "test_image = image.load_img('/content/drive/MyDrive/small_dataset/single_prediction/cat_or_dog_1.jpg', target_size = (64, 64))\n",
        "test_image = image.img_to_array(test_image)\n",
        "test_image = np.expand_dims(test_image, axis = 0)\n",
        "result = cnn.predict(test_image)\n",
        "training_set.class_indices\n",
        "if result[0][0] == 1:\n",
        "  prediction = 'dog'\n",
        "else:\n",
        "  prediction = 'cat'"
      ],
      "metadata": {
        "id": "QiyoFsH296TH"
      },
      "execution_count": 46,
      "outputs": []
    },
    {
      "cell_type": "code",
      "source": [
        "print(prediction)"
      ],
      "metadata": {
        "colab": {
          "base_uri": "https://localhost:8080/"
        },
        "id": "nwOntnjN98X_",
        "outputId": "2fcc6357-9f1b-4e89-c18f-1656c0c07fde"
      },
      "execution_count": 47,
      "outputs": [
        {
          "output_type": "stream",
          "name": "stdout",
          "text": [
            "dog\n"
          ]
        }
      ]
    }
  ]
}