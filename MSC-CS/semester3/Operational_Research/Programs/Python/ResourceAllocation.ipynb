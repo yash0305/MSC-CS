{
 "cells": [
  {
   "cell_type": "markdown",
   "id": "b5c6b371",
   "metadata": {},
   "source": [
    "# <center>Resource Allocation Problem</center>\n",
    "\n",
    "Max $Z=20x_1+12x_2+40x_3+25x_4$.........(profit)\n",
    "\n",
    "w.r.t\n",
    "\n",
    "$x_1 + x_2 + x_3 + x_4 \\le 50$...........(manpower)\n",
    "\n",
    "$3x_1 + 2x_2 + x_3 \\le 100$...(material A)\n",
    "\n",
    "$x_2 + 2x_3 \\le 90$.....(material B)\n",
    "\n",
    "$x_1, x_2, x_3, x_4 \\ge 0$"
   ]
  },
  {
   "cell_type": "code",
   "execution_count": 1,
   "id": "cd64500e",
   "metadata": {},
   "outputs": [],
   "source": [
    "from scipy.optimize import linprog\n",
    "\n",
    "obj = [-20, -12, -40, -25]\n",
    "\n",
    "lhs_ineq = [[1, 1, 1, 1],\n",
    "          [3, 2, 1, 0],\n",
    "          [0, 1, 2, 3]]\n",
    "\n",
    "rhs_ineq = [50,\n",
    "          100,\n",
    "          90]"
   ]
  },
  {
   "cell_type": "code",
   "execution_count": 2,
   "id": "57b0bf39",
   "metadata": {},
   "outputs": [
    {
     "data": {
      "text/plain": [
       "     con: array([], dtype=float64)\n",
       "     fun: -1900.0\n",
       " message: 'Optimization terminated successfully.'\n",
       "     nit: 2\n",
       "   slack: array([ 0., 40.,  0.])\n",
       "  status: 0\n",
       " success: True\n",
       "       x: array([ 5.,  0., 45.,  0.])"
      ]
     },
     "execution_count": 2,
     "metadata": {},
     "output_type": "execute_result"
    }
   ],
   "source": [
    "opt = linprog(c = obj, A_ub = lhs_ineq, b_ub = rhs_ineq, method=\"revised simplex\")\n",
    "\n",
    "opt"
   ]
  }
 ],
 "metadata": {
  "kernelspec": {
   "display_name": "Python 3 (ipykernel)",
   "language": "python",
   "name": "python3"
  },
  "language_info": {
   "codemirror_mode": {
    "name": "ipython",
    "version": 3
   },
   "file_extension": ".py",
   "mimetype": "text/x-python",
   "name": "python",
   "nbconvert_exporter": "python",
   "pygments_lexer": "ipython3",
   "version": "3.10.4"
  }
 },
 "nbformat": 4,
 "nbformat_minor": 5
}
