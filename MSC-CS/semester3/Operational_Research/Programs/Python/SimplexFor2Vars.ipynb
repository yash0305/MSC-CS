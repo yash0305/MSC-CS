{
 "cells": [
  {
   "cell_type": "markdown",
   "id": "6aa6ef56",
   "metadata": {},
   "source": [
    "# <center>Simplex method using 2 variables</center>\n",
    "\n",
    "+ Maximize the following:\n",
    "    \n",
    "    $z = 3x + 2y$\n",
    "    \n",
    "  w.r.t:\n",
    "  \n",
    "  $x + y \\le 4$\n",
    "  \n",
    "  $x - y \\le 2$\n",
    "  \n",
    "  $x, y \\ge 0$"
   ]
  },
  {
   "cell_type": "code",
   "execution_count": 1,
   "id": "05704e45",
   "metadata": {},
   "outputs": [],
   "source": [
    "from scipy.optimize import linprog\n",
    "\n",
    "obj = [-3, -2]\n",
    "lhs_ineq = [[1, 1],\n",
    "            [1, -1]]\n",
    "\n",
    "rhs_ineq = [4,\n",
    "            2]\n",
    "\n",
    "bound = [(0, float(\"inf\")),\n",
    "         (0, float(\"inf\"))]"
   ]
  },
  {
   "cell_type": "code",
   "execution_count": 2,
   "id": "7f901026",
   "metadata": {},
   "outputs": [
    {
     "data": {
      "text/plain": [
       "     con: array([], dtype=float64)\n",
       "     fun: -11.0\n",
       " message: 'Optimization terminated successfully.'\n",
       "     nit: 2\n",
       "   slack: array([0., 0.])\n",
       "  status: 0\n",
       " success: True\n",
       "       x: array([3., 1.])"
      ]
     },
     "execution_count": 2,
     "metadata": {},
     "output_type": "execute_result"
    }
   ],
   "source": [
    "z = linprog(c = obj, A_ub = lhs_ineq, b_ub = rhs_ineq,\n",
    "            bounds = bound, method = \"revised simplex\")\n",
    "\n",
    "z"
   ]
  },
  {
   "cell_type": "code",
   "execution_count": 3,
   "id": "0f7c29cf",
   "metadata": {},
   "outputs": [
    {
     "name": "stdout",
     "output_type": "stream",
     "text": [
      "-11.0\n",
      "True\n",
      "[3. 1.]\n"
     ]
    }
   ],
   "source": [
    "print(z.fun)\n",
    "print(z.success)\n",
    "print(z.x)"
   ]
  },
  {
   "cell_type": "code",
   "execution_count": null,
   "id": "c9de5282",
   "metadata": {},
   "outputs": [],
   "source": []
  }
 ],
 "metadata": {
  "kernelspec": {
   "display_name": "Python 3 (ipykernel)",
   "language": "python",
   "name": "python3"
  },
  "language_info": {
   "codemirror_mode": {
    "name": "ipython",
    "version": 3
   },
   "file_extension": ".py",
   "mimetype": "text/x-python",
   "name": "python",
   "nbconvert_exporter": "python",
   "pygments_lexer": "ipython3",
   "version": "3.10.4"
  }
 },
 "nbformat": 4,
 "nbformat_minor": 5
}
