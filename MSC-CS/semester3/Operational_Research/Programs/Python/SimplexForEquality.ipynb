{
 "cells": [
  {
   "cell_type": "markdown",
   "id": "6c2e247c",
   "metadata": {},
   "source": [
    "# <center>Simplex method for an equality constraint</center>\n",
    "\n",
    "+ Maximize the following:\n",
    "    \n",
    "    $z = x + 2y$\n",
    "    \n",
    "  w.r.t:\n",
    "  \n",
    "  $2x + y \\le 20$\n",
    "  \n",
    "  $-4x + 5y \\le 10$\n",
    "  \n",
    "  $-x + 2y \\ge -2$\n",
    "  \n",
    "  $-x + 5y = 15$\n",
    "  \n",
    "  $x, y \\ge 0$"
   ]
  },
  {
   "cell_type": "code",
   "execution_count": 1,
   "id": "33c62a5b",
   "metadata": {},
   "outputs": [],
   "source": [
    "from scipy.optimize import linprog\n",
    "\n",
    "obj = [-1, -2]\n",
    "\n",
    "lhs_ineq = [[2, 1],\n",
    "            [-4, 5],\n",
    "            [1, -2]]\n",
    "\n",
    "rhs_ineq = [20,\n",
    "            10,\n",
    "            2]\n",
    "\n",
    "lhs_eq = [[-1, 5]]\n",
    "rhs_eq = [15]\n",
    "\n",
    "bound =  [(0, float(\"inf\")),\n",
    "         (0, float(\"inf\"))]"
   ]
  },
  {
   "cell_type": "code",
   "execution_count": 2,
   "id": "8864a1a4",
   "metadata": {},
   "outputs": [
    {
     "data": {
      "text/plain": [
       "     con: array([0.])\n",
       "     fun: -16.818181818181817\n",
       " message: 'Optimization terminated successfully.'\n",
       "     nit: 3\n",
       "   slack: array([ 0.        , 18.18181818,  3.36363636])\n",
       "  status: 0\n",
       " success: True\n",
       "       x: array([7.72727273, 4.54545455])"
      ]
     },
     "execution_count": 2,
     "metadata": {},
     "output_type": "execute_result"
    }
   ],
   "source": [
    "z = linprog(c = obj, A_ub = lhs_ineq, b_ub = rhs_ineq,\n",
    "            A_eq = lhs_eq, b_eq = rhs_eq,\n",
    "            bounds = bound, method = \"revised simplex\")\n",
    "\n",
    "z"
   ]
  }
 ],
 "metadata": {
  "kernelspec": {
   "display_name": "Python 3 (ipykernel)",
   "language": "python",
   "name": "python3"
  },
  "language_info": {
   "codemirror_mode": {
    "name": "ipython",
    "version": 3
   },
   "file_extension": ".py",
   "mimetype": "text/x-python",
   "name": "python",
   "nbconvert_exporter": "python",
   "pygments_lexer": "ipython3",
   "version": "3.10.4"
  }
 },
 "nbformat": 4,
 "nbformat_minor": 5
}
