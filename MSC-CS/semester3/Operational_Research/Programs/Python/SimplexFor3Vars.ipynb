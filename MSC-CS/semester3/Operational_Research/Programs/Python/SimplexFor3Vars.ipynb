{
 "cells": [
  {
   "cell_type": "markdown",
   "id": "d31c421c",
   "metadata": {},
   "source": [
    "# <center>Simplex method using 3 variables</center>\n",
    "\n",
    "+ Minimize the following:\n",
    "    \n",
    "    $z = x_1 - 3x_2 + 2x_3$\n",
    "    \n",
    "  w.r.t:\n",
    "  \n",
    "  $3x_1 - x_2 + 3x_3 \\le 7$\n",
    "  \n",
    "  $-2x_1 + 4x_2 \\le 12$\n",
    "  \n",
    "  $-4x_1 + 3x_2 + 8x_3 \\le 10$\n",
    "  \n",
    "  $x_1, x_2, x_3 \\ge 0$"
   ]
  },
  {
   "cell_type": "code",
   "execution_count": 1,
   "id": "40b0b0ec",
   "metadata": {},
   "outputs": [],
   "source": [
    "from scipy.optimize import linprog\n",
    "\n",
    "obj = [1, -3, 2]\n",
    "\n",
    "lhs_ineq = [[3, -1, 3],\n",
    "            [-2, 4, 0],\n",
    "            [-4, 3, 8]]\n",
    "\n",
    "rhs_ineq = [7,\n",
    "            12,\n",
    "            10]\n",
    "\n",
    "bound = [(0, float(\"inf\")),\n",
    "         (0, float(\"inf\")),\n",
    "         (0, float(\"inf\"))]"
   ]
  },
  {
   "cell_type": "code",
   "execution_count": 2,
   "id": "7445f839",
   "metadata": {},
   "outputs": [
    {
     "data": {
      "text/plain": [
       "     con: array([], dtype=float64)\n",
       "     fun: -11.0\n",
       " message: 'Optimization terminated successfully.'\n",
       "     nit: 2\n",
       "   slack: array([ 0.,  0., 11.])\n",
       "  status: 0\n",
       " success: True\n",
       "       x: array([4., 5., 0.])"
      ]
     },
     "execution_count": 2,
     "metadata": {},
     "output_type": "execute_result"
    }
   ],
   "source": [
    "z = linprog(c = obj, A_ub = lhs_ineq, b_ub = rhs_ineq,\n",
    "            bounds = bound, method = \"revised simplex\")\n",
    "\n",
    "z"
   ]
  },
  {
   "cell_type": "code",
   "execution_count": null,
   "id": "8be38aae",
   "metadata": {},
   "outputs": [],
   "source": []
  }
 ],
 "metadata": {
  "kernelspec": {
   "display_name": "Python 3 (ipykernel)",
   "language": "python",
   "name": "python3"
  },
  "language_info": {
   "codemirror_mode": {
    "name": "ipython",
    "version": 3
   },
   "file_extension": ".py",
   "mimetype": "text/x-python",
   "name": "python",
   "nbconvert_exporter": "python",
   "pygments_lexer": "ipython3",
   "version": "3.10.4"
  }
 },
 "nbformat": 4,
 "nbformat_minor": 5
}
