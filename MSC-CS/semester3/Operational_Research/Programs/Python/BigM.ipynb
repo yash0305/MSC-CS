{
 "cells": [
  {
   "cell_type": "markdown",
   "id": "6d9eb0ac",
   "metadata": {},
   "source": [
    "# <center>Big M method</center>\n",
    "\n",
    "---\n",
    "\n",
    "Solve following linear programming problem using Big M simplex method\n",
    "\n",
    "Min \n",
    "$z=4x_1+x_2$\n",
    "\n",
    "w.r.t\n",
    "\n",
    "$3x_1 + 4x_2 \\ge 20$\n",
    "\n",
    "$x_1 + 5x_2 \\ge 15$\n",
    "\n",
    "$x1,x2 \\ge 0$"
   ]
  },
  {
   "cell_type": "code",
   "execution_count": 1,
   "id": "31d9c9ce",
   "metadata": {},
   "outputs": [],
   "source": [
    "from scipy.optimize import linprog\n",
    "\n",
    "obj = [4, 1]\n",
    "lhs_ineq = [[-3, -4],\n",
    "            [-1, -5]]\n",
    "\n",
    "rhs_ineq = [-20,\n",
    "            -15]\n",
    "\n",
    "bound = [(0, float(\"inf\")),\n",
    "         (0, float(\"inf\"))]"
   ]
  },
  {
   "cell_type": "code",
   "execution_count": 2,
   "id": "6b81dbb9",
   "metadata": {},
   "outputs": [
    {
     "data": {
      "text/plain": [
       "     con: array([], dtype=float64)\n",
       "     fun: 5.0000000002364455\n",
       " message: 'Optimization terminated successfully.'\n",
       "     nit: 5\n",
       "   slack: array([1.64270375e-10, 1.00000000e+01])\n",
       "  status: 0\n",
       " success: True\n",
       "       x: array([6.01160437e-11, 5.00000000e+00])"
      ]
     },
     "execution_count": 2,
     "metadata": {},
     "output_type": "execute_result"
    }
   ],
   "source": [
    "opt =linprog(c=obj,A_ub=lhs_ineq,b_ub=rhs_ineq,\n",
    "               bounds=bound,method=\"interior-point\")\n",
    "\n",
    "opt"
   ]
  }
 ],
 "metadata": {
  "kernelspec": {
   "display_name": "Python 3 (ipykernel)",
   "language": "python",
   "name": "python3"
  },
  "language_info": {
   "codemirror_mode": {
    "name": "ipython",
    "version": 3
   },
   "file_extension": ".py",
   "mimetype": "text/x-python",
   "name": "python",
   "nbconvert_exporter": "python",
   "pygments_lexer": "ipython3",
   "version": "3.10.4"
  }
 },
 "nbformat": 4,
 "nbformat_minor": 5
}
