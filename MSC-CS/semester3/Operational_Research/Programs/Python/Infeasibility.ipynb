{
 "cells": [
  {
   "cell_type": "markdown",
   "id": "7b03f461",
   "metadata": {},
   "source": [
    "# <center>Infeasibility</center>\n",
    "\n",
    "Solve following linear programming problem using simplex method\n",
    "\n",
    "+ Max $z=200x-300y$\n",
    "\n",
    "  Subject to constraints\n",
    "\n",
    "  $2x + 3y \\ge 1200$\n",
    "\n",
    "  $x + y \\le 400$\n",
    "\n",
    "  $2x + \\frac{3}{2}y \\ge 900$\n",
    "\n",
    "  $x,y \\ge 0$"
   ]
  },
  {
   "cell_type": "code",
   "execution_count": 1,
   "id": "18f09835",
   "metadata": {},
   "outputs": [],
   "source": [
    "from scipy.optimize import linprog\n",
    "\n",
    "obj = [-200, 300]\n",
    "\n",
    "lhs_ineq = [[-2, -3],\n",
    "         [1, 1],\n",
    "         [-2, -3/2]]\n",
    "\n",
    "rhs_ineq = [-1200, 400, -900]\n",
    "\n",
    "bnd=[(0, float(\"inf\")),\n",
    "    (0, float(\"inf\"))]"
   ]
  },
  {
   "cell_type": "code",
   "execution_count": 2,
   "id": "c144d0fb",
   "metadata": {},
   "outputs": [
    {
     "data": {
      "text/plain": [
       "     con: array([], dtype=float64)\n",
       "     fun: 120000.0\n",
       " message: 'The problem appears infeasible, as the phase one auxiliary problem terminated successfully with a residual of 3.0e+02, greater than the tolerance 1e-12 required for the solution to be considered feasible. Consider increasing the tolerance to be greater than 3.0e+02. If this tolerance is unnaceptably large, the problem is likely infeasible.'\n",
       "     nit: 1\n",
       "   slack: array([   0.,    0., -300.])\n",
       "  status: 2\n",
       " success: False\n",
       "       x: array([  0., 400.])"
      ]
     },
     "execution_count": 2,
     "metadata": {},
     "output_type": "execute_result"
    }
   ],
   "source": [
    "opt = linprog(c = obj, A_ub = lhs_ineq, b_ub = rhs_ineq,\n",
    "           bounds = bnd,\n",
    "           method = \"revised simplex\")\n",
    "\n",
    "opt"
   ]
  }
 ],
 "metadata": {
  "kernelspec": {
   "display_name": "Python 3 (ipykernel)",
   "language": "python",
   "name": "python3"
  },
  "language_info": {
   "codemirror_mode": {
    "name": "ipython",
    "version": 3
   },
   "file_extension": ".py",
   "mimetype": "text/x-python",
   "name": "python",
   "nbconvert_exporter": "python",
   "pygments_lexer": "ipython3",
   "version": "3.10.4"
  }
 },
 "nbformat": 4,
 "nbformat_minor": 5
}
