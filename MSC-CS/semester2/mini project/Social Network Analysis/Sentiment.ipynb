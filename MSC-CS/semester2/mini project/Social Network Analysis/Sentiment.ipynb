{
  "nbformat": 4,
  "nbformat_minor": 0,
  "metadata": {
    "colab": {
      "name": "Sentiment.ipynb",
      "provenance": []
    },
    "kernelspec": {
      "name": "python3",
      "display_name": "Python 3"
    },
    "language_info": {
      "name": "python"
    }
  },
  "cells": [
    {
      "cell_type": "markdown",
      "source": [
        "## Sentiment analysis in Python 3"
      ],
      "metadata": {
        "id": "z9i0X7MIVjhA"
      }
    },
    {
      "cell_type": "markdown",
      "source": [
        "Sentiment analysis is contextual mining of text which identifies and extracts subjective information in source material, and helping a business to understand the social sentiment of their brand, product or service while monitoring online conversations. However, analysis of social media streams is usually restricted to just basic sentiment analysis and count based metrics. This is akin to just scratching the surface and missing out on those high value insights that are waiting to be discovered. So what should a brand do to capture that low hanging fruit?\n",
        "\n",
        "With the recent advances in deep learning, the ability of algorithms to analyse text has improved considerably. Creative use of advanced artificial intelligence techniques can be an effective tool for doing in-depth research. We believe it is important to classify incoming customer conversation about a brand based on following lines:\n",
        "\n",
        "\n",
        "*   Key aspects of a brand’s product and service that customers care about.\n",
        "*   Users’ underlying intentions and reactions concerning those aspects.\n",
        "\n",
        "\n"
      ],
      "metadata": {
        "id": "TquFJWU8YlR6"
      }
    },
    {
      "cell_type": "markdown",
      "source": [
        "                                                  \n",
        "\n",
        "TextBlob : is a Python (2 and 3) library for processing textual data. It provides a simple API for diving into common natural language processing (NLP) tasks such as part-of-speech tagging, noun phrase extraction, sentiment analysis, classification, translation, and more."
      ],
      "metadata": {
        "id": "w9t8yWomU_Lv"
      }
    },
    {
      "cell_type": "markdown",
      "source": [
        "Load required libraries"
      ],
      "metadata": {
        "id": "f58pxJrZVxO0"
      }
    },
    {
      "cell_type": "code",
      "source": [
        "from textblob import TextBlob\n",
        "\n",
        "\n"
      ],
      "metadata": {
        "id": "9--U28bN-zhr"
      },
      "execution_count": 50,
      "outputs": []
    },
    {
      "cell_type": "markdown",
      "source": [
        "Taking a input"
      ],
      "metadata": {
        "id": "8nOfYE3ZV2QL"
      }
    },
    {
      "cell_type": "code",
      "source": [
        "textInput = input(\"Text-to-be-analysed : \")"
      ],
      "metadata": {
        "id": "6bkZT86LIgav",
        "colab": {
          "base_uri": "https://localhost:8080/"
        },
        "outputId": "707d11dd-a080-498e-b295-d0492fc5090e"
      },
      "execution_count": 51,
      "outputs": [
        {
          "name": "stdout",
          "output_type": "stream",
          "text": [
            "Text-to-be-analysed : cate hate's water\n"
          ]
        }
      ]
    },
    {
      "cell_type": "markdown",
      "source": [
        "Analyzing the sentence"
      ],
      "metadata": {
        "id": "81_qjiLdV-3i"
      }
    },
    {
      "cell_type": "code",
      "source": [
        "edu = TextBlob(textInput)"
      ],
      "metadata": {
        "id": "aUxNoXeXPn6M"
      },
      "execution_count": 52,
      "outputs": []
    },
    {
      "cell_type": "markdown",
      "source": [
        "Negative : x<0, Neutral : x == 0 and Positive : x>0 and X<=1"
      ],
      "metadata": {
        "id": "hyd8KuqBUZhz"
      }
    },
    {
      "cell_type": "code",
      "source": [
        "\n",
        "if x < 0:\n",
        "  print(\"It is a Negative sentence\")\n",
        "elif x == 0:\n",
        "  print(\"It is a neutal sentence\")\n",
        "elif x>0 and x<=1:\n",
        "  print(\"It is a positive sentence\")"
      ],
      "metadata": {
        "colab": {
          "base_uri": "https://localhost:8080/"
        },
        "id": "O2fTQkebTrhF",
        "outputId": "aff37e86-919f-4602-ab42-45e8f71ede71"
      },
      "execution_count": 53,
      "outputs": [
        {
          "output_type": "stream",
          "name": "stdout",
          "text": [
            "It is a Negative sentence\n"
          ]
        }
      ]
    }
  ]
}